{
 "cells": [
  {
   "cell_type": "code",
   "execution_count": 1,
   "metadata": {},
   "outputs": [],
   "source": [
    "import pandas as pd\n",
<<<<<<< HEAD
    "from sklearn.datasets import load_digits\n",
    "digits = load_digits()"
=======
    "from sklearn.datasets import load_iris\n",
    "iris = load_iris()"
>>>>>>> 3cb83a1a9978df701a57bd2d1a534f395d23eec5
   ]
  },
  {
   "cell_type": "code",
   "execution_count": 2,
   "metadata": {},
   "outputs": [
    {
     "data": {
      "text/plain": [
<<<<<<< HEAD
       "['DESCR', 'data', 'images', 'target', 'target_names']"
=======
       "['DESCR', 'data', 'feature_names', 'filename', 'target', 'target_names']"
>>>>>>> 3cb83a1a9978df701a57bd2d1a534f395d23eec5
      ]
     },
     "execution_count": 2,
     "metadata": {},
     "output_type": "execute_result"
    }
   ],
   "source": [
<<<<<<< HEAD
    "dir(digits)"
=======
    "dir(iris)"
>>>>>>> 3cb83a1a9978df701a57bd2d1a534f395d23eec5
   ]
  },
  {
   "cell_type": "code",
   "execution_count": 3,
   "metadata": {},
   "outputs": [
    {
     "data": {
      "text/plain": [
<<<<<<< HEAD
       "<Figure size 432x288 with 0 Axes>"
      ]
     },
     "metadata": {},
     "output_type": "display_data"
    },
    {
     "data": {
      "image/png": "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\n",
      "text/plain": [
       "<Figure size 288x288 with 1 Axes>"
      ]
     },
     "metadata": {
      "needs_background": "light"
     },
     "output_type": "display_data"
    },
    {
     "data": {
      "image/png": "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\n",
      "text/plain": [
       "<Figure size 288x288 with 1 Axes>"
      ]
     },
     "metadata": {
      "needs_background": "light"
     },
     "output_type": "display_data"
    },
    {
     "data": {
      "image/png": "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\n",
      "text/plain": [
       "<Figure size 288x288 with 1 Axes>"
      ]
     },
     "metadata": {
      "needs_background": "light"
     },
     "output_type": "display_data"
    },
    {
     "data": {
      "image/png": "iVBORw0KGgoAAAANSUhEUgAAAP4AAAECCAYAAADesWqHAAAABHNCSVQICAgIfAhkiAAAAAlwSFlzAAALEgAACxIB0t1+/AAAADl0RVh0U29mdHdhcmUAbWF0cGxvdGxpYiB2ZXJzaW9uIDIuMi41LCBodHRwOi8vbWF0cGxvdGxpYi5vcmcvSM8oowAAC9lJREFUeJzt3X+o1fUdx/HXazelLMlarkIjM4YQwdJEFkVsmmEr3D8LFIoWG/rHFskGYftn9J9/RftjxBWrBZmRljBia3nJiGCrXc2WeW3UxUipNLxhP0DJ3vvjfA3nLrvfK/fzuefc9/MBB8+593vP63OvvM73+z3n+/1+HBECkMt3JnsAAOqj+EBCFB9IiOIDCVF8ICGKDyTUFcW3vcL2u7bfs72+cNbjtg/b3lsy57S8K2zvtL3P9ju27y+cd67tN2y/1eQ9VDKvyeyz/abtF0pnNXkHbL9te4/twcJZs2xvs73f9pDtGwpmLWh+p1O3Y7bXFQmLiEm9SeqT9L6k+ZKmS3pL0jUF826WtEjS3kq/3+WSFjX3Z0r6d+Hfz5IuaO5Pk/S6pB8W/h1/I+lpSS9U+psekHRJpawnJf2yuT9d0qxKuX2SPpZ0ZYnn74Y1/hJJ70XEcESckPSMpJ+WCouIVyUdLfX8o+R9FBG7m/ufSxqSNKdgXkTEF83Dac2t2FFatudKul3SplIZk8X2heqsKB6TpIg4ERGfVYpfJun9iPigxJN3Q/HnSPrwtMcHVbAYk8n2PEkL1VkLl8zps71H0mFJOyKiZN4jkh6Q9E3BjDOFpJds77K9pmDOVZKOSHqi2ZXZZPv8gnmnWyVpS6kn74bip2D7AknPSVoXEcdKZkXEyYi4TtJcSUtsX1six/Ydkg5HxK4Sz/9/3BQRiyTdJulXtm8ulHOOOruFj0bEQklfSir6HpQk2Z4uaaWkraUyuqH4hyRdcdrjuc3Xpgzb09Qp/eaIeL5WbrNZulPSikIRN0paafuAOrtoS20/VSjrWxFxqPn3sKTt6uwulnBQ0sHTtpi2qfNCUNptknZHxCelArqh+P+U9H3bVzWvdKsk/XmSxzRhbFudfcShiHi4Qt5s27Oa++dJWi5pf4msiHgwIuZGxDx1/t9ejoi7SmSdYvt82zNP3Zd0q6Qin9BExMeSPrS9oPnSMkn7SmSdYbUKbuZLnU2ZSRURX9v+taS/qfNO5uMR8U6pPNtbJP1I0iW2D0r6fUQ8VipPnbXi3ZLebva7Jel3EfGXQnmXS3rSdp86L+zPRkSVj9kquVTS9s7rqc6R9HREvFgw7z5Jm5uV0rCkewtmnXoxWy5pbdGc5qMDAIl0w6Y+gMooPpAQxQcSovhAQhQfSKiril/48MtJyyKPvG7L66riS6r5x636H0keed2U123FB1BBkQN4bE/po4Iuu+yycf/MV199pRkzZpxV3pw54z9Z8ciRI5o9e/ZZ5R0/fnzcP3P06FFdfPHFZ5U3NDQ07p+JCDVH743byZMnz+rnekVEjPmHmfRDdnvRPffcUzVvw4YNVfOGh4er5i1evLhq3sjISNW8bsSmPpAQxQcSovhAQhQfSIjiAwlRfCAhig8kRPGBhFoVv+YUVwDKG7P4zUUb/6jOJX+vkbTa9jWlBwagnDZr/KpTXAEor03x00xxBWQxYSfpNBcOqH3OMoCz0Kb4raa4ioiNkjZKU/+0XKDXtdnUn9JTXAEZjbnGrz3FFYDyWu3jN/O8lZrrDUBlHLkHJETxgYQoPpAQxQcSovhAQhQfSIjiAwlRfCChKTGTTu2ZZu68886qeWvXrq2a19/fXzXv+uuvr5o3MDBQNa8bscYHEqL4QEIUH0iI4gMJUXwgIYoPJETxgYQoPpAQxQcSovhAQm2m0Hrc9mHbe2sMCEB5bdb4f5K0ovA4AFQ0ZvEj4lVJRyuMBUAl7OMDCTF3HpDQhBWfufOA3sGmPpBQm4/ztkj6u6QFtg/a/kX5YQEoqc2kmatrDARAPWzqAwlRfCAhig8kRPGBhCg+kBDFBxKi+EBCFB9IyBETf1h97WP158+fXzNOIyMjVfMGBwer5tV29dVXT/YQppSI8FjLsMYHEqL4QEIUH0iI4gMJUXwgIYoPJETxgYQoPpAQxQcSovhAQm0utnmF7Z2299l+x/b9NQYGoJw219X/WtJvI2K37ZmSdtneERH7Co8NQCFt5s77KCJ2N/c/lzQkaU7pgQEoZ1z7+LbnSVoo6fUSgwFQR+sptGxfIOk5Sesi4tgo32fuPKBHtCq+7WnqlH5zRDw/2jLMnQf0jjbv6lvSY5KGIuLh8kMCUFqbffwbJd0taantPc3tJ4XHBaCgNnPnvSZpzEv5AOgdHLkHJETxgYQoPpAQxQcSovhAQhQfSIjiAwlRfCCh1ifpdLPh4eGqebXn6qudNzAwUDXvoosuqppXe+7DbsQaH0iI4gMJUXwgIYoPJETxgYQoPpAQxQcSovhAQhQfSIjiAwm1ucruubbfsP1WM3feQzUGBqCcNsfqH5e0NCK+aK6v/5rtv0bEPwqPDUAhba6yG5K+aB5Oa25MmAH0sFb7+Lb7bO+RdFjSjohg7jygh7UqfkScjIjrJM2VtMT2tWcuY3uN7UHbgxM9SAATa1zv6kfEZ5J2Sloxyvc2RsTiiFg8UYMDUEabd/Vn257V3D9P0nJJ+0sPDEA5bd7Vv1zSk7b71HmheDYiXig7LAAltXlX/1+SFlYYC4BKOHIPSIjiAwlRfCAhig8kRPGBhCg+kBDFBxKi+EBC7px1O8FPanPa7gSqPbfcjh07qubVtnz58qp5tefqiwiPtQxrfCAhig8kRPGBhCg+kBDFBxKi+EBCFB9IiOIDCVF8ICGKDyTUuvjNpBpv2uZCm0CPG88a/35JQ6UGAqCetlNozZV0u6RNZYcDoIa2a/xHJD0g6ZuCYwFQSZuZdO6QdDgido2xHHPnAT2izRr/RkkrbR+Q9IykpbafOnMh5s4DeseYxY+IByNibkTMk7RK0ssRcVfxkQEohs/xgYTaTJr5rYh4RdIrRUYCoBrW+EBCFB9IiOIDCVF8ICGKDyRE8YGEKD6QEMUHEmLuPPyP2nP19ff3V80bHh6umrd+/fqqecydB2BUFB9IiOIDCVF8ICGKDyRE8YGEKD6QEMUHEqL4QEIUH0io1TX3mktrfy7ppKSvuYQ20NvGc7HNH0fEp8VGAqAaNvWBhNoWPyS9ZHuX7TUlBwSgvLab+jdFxCHb35O0w/b+iHj19AWaFwReFIAe0GqNHxGHmn8PS9ouackoyzB3HtAj2syWe77tmafuS7pV0t7SAwNQTptN/Uslbbd9avmnI+LFoqMCUNSYxY+IYUk/qDAWAJXwcR6QEMUHEqL4QEIUH0iI4gMJUXwgIYoPJETxgYTGcz4+Ghs2bKiaNzAwUDWv9tx5t9xyS9W8rVu3Vs3rRqzxgYQoPpAQxQcSovhAQhQfSIjiAwlRfCAhig8kRPGBhCg+kFCr4tueZXub7f22h2zfUHpgAMppe6z+HyS9GBE/sz1d0oyCYwJQ2JjFt32hpJsl/VySIuKEpBNlhwWgpDab+ldJOiLpCdtv2t7UTKzxX2yvsT1oe3DCRwlgQrUp/jmSFkl6NCIWSvpS0vozF2IKLaB3tCn+QUkHI+L15vE2dV4IAPSoMYsfER9L+tD2guZLyyTtKzoqAEW1fVf/Pkmbm3f0hyXdW25IAEprVfyI2COJfXdgiuDIPSAhig8kRPGBhCg+kBDFBxKi+EBCFB9IiOIDCTF33lkYGRmpmtff3181r7bac9mtXbu2al43Yo0PJETxgYQoPpAQxQcSovhAQhQfSIjiAwlRfCAhig8kNGbxbS+wvee02zHb62oMDkAZYx6yGxHvSrpOkmz3STokaXvhcQEoaLyb+sskvR8RH5QYDIA6xlv8VZK2lBgIgHpaF7+5pv5KSaOeSsXceUDvGM9pubdJ2h0Rn4z2zYjYKGmjJNmOCRgbgELGs6m/WmzmA1NCq+I302Ivl/R82eEAqKHtFFpfSvpu4bEAqIQj94CEKD6QEMUHEqL4QEIUH0iI4gMJUXwgIYoPJETxgYQcMfHn09g+Iulsztm/RNKnEzycbsgij7xaeVdGxOyxFipS/LNlezAiFk+1LPLI67Y8NvWBhCg+kFC3FX/jFM0ij7yuyuuqfXwAdXTbGh9ABRQfSIjiAwlRfCAhig8k9B8g6aFeQLQezgAAAABJRU5ErkJggg==\n",
      "text/plain": [
       "<Figure size 288x288 with 1 Axes>"
      ]
     },
     "metadata": {
      "needs_background": "light"
     },
     "output_type": "display_data"
    }
   ],
   "source": [
    "%matplotlib inline\n",
    "import matplotlib.pyplot as plt\n",
    "plt.gray()\n",
    "for i in range(4):\n",
    "    plt.matshow(digits.images[i])"
=======
       "['sepal length (cm)',\n",
       " 'sepal width (cm)',\n",
       " 'petal length (cm)',\n",
       " 'petal width (cm)']"
      ]
     },
     "execution_count": 3,
     "metadata": {},
     "output_type": "execute_result"
    }
   ],
   "source": [
    "iris.feature_names"
   ]
  },
  {
   "cell_type": "code",
   "execution_count": 5,
   "metadata": {},
   "outputs": [
    {
     "data": {
      "text/html": [
       "<div>\n",
       "<style scoped>\n",
       "    .dataframe tbody tr th:only-of-type {\n",
       "        vertical-align: middle;\n",
       "    }\n",
       "\n",
       "    .dataframe tbody tr th {\n",
       "        vertical-align: top;\n",
       "    }\n",
       "\n",
       "    .dataframe thead th {\n",
       "        text-align: right;\n",
       "    }\n",
       "</style>\n",
       "<table border=\"1\" class=\"dataframe\">\n",
       "  <thead>\n",
       "    <tr style=\"text-align: right;\">\n",
       "      <th></th>\n",
       "      <th>sepal length (cm)</th>\n",
       "      <th>sepal width (cm)</th>\n",
       "      <th>petal length (cm)</th>\n",
       "      <th>petal width (cm)</th>\n",
       "    </tr>\n",
       "  </thead>\n",
       "  <tbody>\n",
       "    <tr>\n",
       "      <th>0</th>\n",
       "      <td>5.1</td>\n",
       "      <td>3.5</td>\n",
       "      <td>1.4</td>\n",
       "      <td>0.2</td>\n",
       "    </tr>\n",
       "    <tr>\n",
       "      <th>1</th>\n",
       "      <td>4.9</td>\n",
       "      <td>3.0</td>\n",
       "      <td>1.4</td>\n",
       "      <td>0.2</td>\n",
       "    </tr>\n",
       "    <tr>\n",
       "      <th>2</th>\n",
       "      <td>4.7</td>\n",
       "      <td>3.2</td>\n",
       "      <td>1.3</td>\n",
       "      <td>0.2</td>\n",
       "    </tr>\n",
       "    <tr>\n",
       "      <th>3</th>\n",
       "      <td>4.6</td>\n",
       "      <td>3.1</td>\n",
       "      <td>1.5</td>\n",
       "      <td>0.2</td>\n",
       "    </tr>\n",
       "    <tr>\n",
       "      <th>4</th>\n",
       "      <td>5.0</td>\n",
       "      <td>3.6</td>\n",
       "      <td>1.4</td>\n",
       "      <td>0.2</td>\n",
       "    </tr>\n",
       "  </tbody>\n",
       "</table>\n",
       "</div>"
      ],
      "text/plain": [
       "   sepal length (cm)  sepal width (cm)  petal length (cm)  petal width (cm)\n",
       "0                5.1               3.5                1.4               0.2\n",
       "1                4.9               3.0                1.4               0.2\n",
       "2                4.7               3.2                1.3               0.2\n",
       "3                4.6               3.1                1.5               0.2\n",
       "4                5.0               3.6                1.4               0.2"
      ]
     },
     "execution_count": 5,
     "metadata": {},
     "output_type": "execute_result"
    }
   ],
   "source": [
    "df = pd.DataFrame(iris.data, columns = iris.feature_names)\n",
    "df.head()"
>>>>>>> 3cb83a1a9978df701a57bd2d1a534f395d23eec5
   ]
  },
  {
   "cell_type": "code",
   "execution_count": 6,
   "metadata": {},
   "outputs": [
    {
     "data": {
      "text/html": [
       "<div>\n",
       "<style scoped>\n",
       "    .dataframe tbody tr th:only-of-type {\n",
       "        vertical-align: middle;\n",
       "    }\n",
       "\n",
       "    .dataframe tbody tr th {\n",
       "        vertical-align: top;\n",
       "    }\n",
       "\n",
       "    .dataframe thead th {\n",
       "        text-align: right;\n",
       "    }\n",
       "</style>\n",
       "<table border=\"1\" class=\"dataframe\">\n",
       "  <thead>\n",
       "    <tr style=\"text-align: right;\">\n",
       "      <th></th>\n",
<<<<<<< HEAD
       "      <th>0</th>\n",
       "      <th>1</th>\n",
       "      <th>2</th>\n",
       "      <th>3</th>\n",
       "      <th>4</th>\n",
       "      <th>5</th>\n",
       "      <th>6</th>\n",
       "      <th>7</th>\n",
       "      <th>8</th>\n",
       "      <th>9</th>\n",
       "      <th>...</th>\n",
       "      <th>54</th>\n",
       "      <th>55</th>\n",
       "      <th>56</th>\n",
       "      <th>57</th>\n",
       "      <th>58</th>\n",
       "      <th>59</th>\n",
       "      <th>60</th>\n",
       "      <th>61</th>\n",
       "      <th>62</th>\n",
       "      <th>63</th>\n",
=======
       "      <th>sepal length (cm)</th>\n",
       "      <th>sepal width (cm)</th>\n",
       "      <th>petal length (cm)</th>\n",
       "      <th>petal width (cm)</th>\n",
       "      <th>target</th>\n",
>>>>>>> 3cb83a1a9978df701a57bd2d1a534f395d23eec5
       "    </tr>\n",
       "  </thead>\n",
       "  <tbody>\n",
       "    <tr>\n",
       "      <th>0</th>\n",
<<<<<<< HEAD
       "      <td>0.0</td>\n",
       "      <td>0.0</td>\n",
       "      <td>5.0</td>\n",
       "      <td>13.0</td>\n",
       "      <td>9.0</td>\n",
       "      <td>1.0</td>\n",
       "      <td>0.0</td>\n",
       "      <td>0.0</td>\n",
       "      <td>0.0</td>\n",
       "      <td>0.0</td>\n",
       "      <td>...</td>\n",
       "      <td>0.0</td>\n",
       "      <td>0.0</td>\n",
       "      <td>0.0</td>\n",
       "      <td>0.0</td>\n",
       "      <td>6.0</td>\n",
       "      <td>13.0</td>\n",
       "      <td>10.0</td>\n",
       "      <td>0.0</td>\n",
       "      <td>0.0</td>\n",
       "      <td>0.0</td>\n",
       "    </tr>\n",
       "    <tr>\n",
       "      <th>1</th>\n",
       "      <td>0.0</td>\n",
       "      <td>0.0</td>\n",
       "      <td>0.0</td>\n",
       "      <td>12.0</td>\n",
       "      <td>13.0</td>\n",
       "      <td>5.0</td>\n",
       "      <td>0.0</td>\n",
       "      <td>0.0</td>\n",
       "      <td>0.0</td>\n",
       "      <td>0.0</td>\n",
       "      <td>...</td>\n",
       "      <td>0.0</td>\n",
       "      <td>0.0</td>\n",
       "      <td>0.0</td>\n",
       "      <td>0.0</td>\n",
       "      <td>0.0</td>\n",
       "      <td>11.0</td>\n",
       "      <td>16.0</td>\n",
       "      <td>10.0</td>\n",
       "      <td>0.0</td>\n",
       "      <td>0.0</td>\n",
       "    </tr>\n",
       "    <tr>\n",
       "      <th>2</th>\n",
       "      <td>0.0</td>\n",
       "      <td>0.0</td>\n",
       "      <td>0.0</td>\n",
       "      <td>4.0</td>\n",
       "      <td>15.0</td>\n",
       "      <td>12.0</td>\n",
       "      <td>0.0</td>\n",
       "      <td>0.0</td>\n",
       "      <td>0.0</td>\n",
       "      <td>0.0</td>\n",
       "      <td>...</td>\n",
       "      <td>5.0</td>\n",
       "      <td>0.0</td>\n",
       "      <td>0.0</td>\n",
       "      <td>0.0</td>\n",
       "      <td>0.0</td>\n",
       "      <td>3.0</td>\n",
       "      <td>11.0</td>\n",
       "      <td>16.0</td>\n",
       "      <td>9.0</td>\n",
       "      <td>0.0</td>\n",
       "    </tr>\n",
       "    <tr>\n",
       "      <th>3</th>\n",
       "      <td>0.0</td>\n",
       "      <td>0.0</td>\n",
       "      <td>7.0</td>\n",
       "      <td>15.0</td>\n",
       "      <td>13.0</td>\n",
       "      <td>1.0</td>\n",
       "      <td>0.0</td>\n",
       "      <td>0.0</td>\n",
       "      <td>0.0</td>\n",
       "      <td>8.0</td>\n",
       "      <td>...</td>\n",
       "      <td>9.0</td>\n",
       "      <td>0.0</td>\n",
       "      <td>0.0</td>\n",
       "      <td>0.0</td>\n",
       "      <td>7.0</td>\n",
       "      <td>13.0</td>\n",
       "      <td>13.0</td>\n",
       "      <td>9.0</td>\n",
       "      <td>0.0</td>\n",
       "      <td>0.0</td>\n",
       "    </tr>\n",
       "    <tr>\n",
       "      <th>4</th>\n",
       "      <td>0.0</td>\n",
       "      <td>0.0</td>\n",
       "      <td>0.0</td>\n",
       "      <td>1.0</td>\n",
       "      <td>11.0</td>\n",
       "      <td>0.0</td>\n",
       "      <td>0.0</td>\n",
       "      <td>0.0</td>\n",
       "      <td>0.0</td>\n",
       "      <td>0.0</td>\n",
       "      <td>...</td>\n",
       "      <td>0.0</td>\n",
       "      <td>0.0</td>\n",
       "      <td>0.0</td>\n",
       "      <td>0.0</td>\n",
       "      <td>0.0</td>\n",
       "      <td>2.0</td>\n",
       "      <td>16.0</td>\n",
       "      <td>4.0</td>\n",
       "      <td>0.0</td>\n",
       "      <td>0.0</td>\n",
       "    </tr>\n",
       "  </tbody>\n",
       "</table>\n",
       "<p>5 rows × 64 columns</p>\n",
       "</div>"
      ],
      "text/plain": [
       "    0    1    2     3     4     5    6    7    8    9   ...   54   55   56  \\\n",
       "0  0.0  0.0  5.0  13.0   9.0   1.0  0.0  0.0  0.0  0.0  ...  0.0  0.0  0.0   \n",
       "1  0.0  0.0  0.0  12.0  13.0   5.0  0.0  0.0  0.0  0.0  ...  0.0  0.0  0.0   \n",
       "2  0.0  0.0  0.0   4.0  15.0  12.0  0.0  0.0  0.0  0.0  ...  5.0  0.0  0.0   \n",
       "3  0.0  0.0  7.0  15.0  13.0   1.0  0.0  0.0  0.0  8.0  ...  9.0  0.0  0.0   \n",
       "4  0.0  0.0  0.0   1.0  11.0   0.0  0.0  0.0  0.0  0.0  ...  0.0  0.0  0.0   \n",
       "\n",
       "    57   58    59    60    61   62   63  \n",
       "0  0.0  6.0  13.0  10.0   0.0  0.0  0.0  \n",
       "1  0.0  0.0  11.0  16.0  10.0  0.0  0.0  \n",
       "2  0.0  0.0   3.0  11.0  16.0  9.0  0.0  \n",
       "3  0.0  7.0  13.0  13.0   9.0  0.0  0.0  \n",
       "4  0.0  0.0   2.0  16.0   4.0  0.0  0.0  \n",
       "\n",
       "[5 rows x 64 columns]"
=======
       "      <td>5.1</td>\n",
       "      <td>3.5</td>\n",
       "      <td>1.4</td>\n",
       "      <td>0.2</td>\n",
       "      <td>0</td>\n",
       "    </tr>\n",
       "    <tr>\n",
       "      <th>1</th>\n",
       "      <td>4.9</td>\n",
       "      <td>3.0</td>\n",
       "      <td>1.4</td>\n",
       "      <td>0.2</td>\n",
       "      <td>0</td>\n",
       "    </tr>\n",
       "    <tr>\n",
       "      <th>2</th>\n",
       "      <td>4.7</td>\n",
       "      <td>3.2</td>\n",
       "      <td>1.3</td>\n",
       "      <td>0.2</td>\n",
       "      <td>0</td>\n",
       "    </tr>\n",
       "    <tr>\n",
       "      <th>3</th>\n",
       "      <td>4.6</td>\n",
       "      <td>3.1</td>\n",
       "      <td>1.5</td>\n",
       "      <td>0.2</td>\n",
       "      <td>0</td>\n",
       "    </tr>\n",
       "    <tr>\n",
       "      <th>4</th>\n",
       "      <td>5.0</td>\n",
       "      <td>3.6</td>\n",
       "      <td>1.4</td>\n",
       "      <td>0.2</td>\n",
       "      <td>0</td>\n",
       "    </tr>\n",
       "  </tbody>\n",
       "</table>\n",
       "</div>"
      ],
      "text/plain": [
       "   sepal length (cm)  sepal width (cm)  petal length (cm)  petal width (cm)  \\\n",
       "0                5.1               3.5                1.4               0.2   \n",
       "1                4.9               3.0                1.4               0.2   \n",
       "2                4.7               3.2                1.3               0.2   \n",
       "3                4.6               3.1                1.5               0.2   \n",
       "4                5.0               3.6                1.4               0.2   \n",
       "\n",
       "   target  \n",
       "0       0  \n",
       "1       0  \n",
       "2       0  \n",
       "3       0  \n",
       "4       0  "
>>>>>>> 3cb83a1a9978df701a57bd2d1a534f395d23eec5
      ]
     },
     "execution_count": 6,
     "metadata": {},
     "output_type": "execute_result"
    }
   ],
   "source": [
<<<<<<< HEAD
    "df = pd.DataFrame(digits.data)\n",
=======
    "df['target'] = iris.target\n",
>>>>>>> 3cb83a1a9978df701a57bd2d1a534f395d23eec5
    "df.head()"
   ]
  },
  {
   "cell_type": "code",
<<<<<<< HEAD
   "execution_count": 5,
=======
   "execution_count": 7,
>>>>>>> 3cb83a1a9978df701a57bd2d1a534f395d23eec5
   "metadata": {},
   "outputs": [
    {
     "data": {
      "text/plain": [
<<<<<<< HEAD
       "array([[ 0.,  0.,  5., 13.,  9.,  1.,  0.,  0.,  0.,  0., 13., 15., 10.,\n",
       "        15.,  5.,  0.,  0.,  3., 15.,  2.,  0., 11.,  8.,  0.,  0.,  4.,\n",
       "        12.,  0.,  0.,  8.,  8.,  0.,  0.,  5.,  8.,  0.,  0.,  9.,  8.,\n",
       "         0.,  0.,  4., 11.,  0.,  1., 12.,  7.,  0.,  0.,  2., 14.,  5.,\n",
       "        10., 12.,  0.,  0.,  0.,  0.,  6., 13., 10.,  0.,  0.,  0.],\n",
       "       [ 0.,  0.,  0., 12., 13.,  5.,  0.,  0.,  0.,  0.,  0., 11., 16.,\n",
       "         9.,  0.,  0.,  0.,  0.,  3., 15., 16.,  6.,  0.,  0.,  0.,  7.,\n",
       "        15., 16., 16.,  2.,  0.,  0.,  0.,  0.,  1., 16., 16.,  3.,  0.,\n",
       "         0.,  0.,  0.,  1., 16., 16.,  6.,  0.,  0.,  0.,  0.,  1., 16.,\n",
       "        16.,  6.,  0.,  0.,  0.,  0.,  0., 11., 16., 10.,  0.,  0.],\n",
       "       [ 0.,  0.,  0.,  4., 15., 12.,  0.,  0.,  0.,  0.,  3., 16., 15.,\n",
       "        14.,  0.,  0.,  0.,  0.,  8., 13.,  8., 16.,  0.,  0.,  0.,  0.,\n",
       "         1.,  6., 15., 11.,  0.,  0.,  0.,  1.,  8., 13., 15.,  1.,  0.,\n",
       "         0.,  0.,  9., 16., 16.,  5.,  0.,  0.,  0.,  0.,  3., 13., 16.,\n",
       "        16., 11.,  5.,  0.,  0.,  0.,  0.,  3., 11., 16.,  9.,  0.],\n",
       "       [ 0.,  0.,  7., 15., 13.,  1.,  0.,  0.,  0.,  8., 13.,  6., 15.,\n",
       "         4.,  0.,  0.,  0.,  2.,  1., 13., 13.,  0.,  0.,  0.,  0.,  0.,\n",
       "         2., 15., 11.,  1.,  0.,  0.,  0.,  0.,  0.,  1., 12., 12.,  1.,\n",
       "         0.,  0.,  0.,  0.,  0.,  1., 10.,  8.,  0.,  0.,  0.,  8.,  4.,\n",
       "         5., 14.,  9.,  0.,  0.,  0.,  7., 13., 13.,  9.,  0.,  0.],\n",
       "       [ 0.,  0.,  0.,  1., 11.,  0.,  0.,  0.,  0.,  0.,  0.,  7.,  8.,\n",
       "         0.,  0.,  0.,  0.,  0.,  1., 13.,  6.,  2.,  2.,  0.,  0.,  0.,\n",
       "         7., 15.,  0.,  9.,  8.,  0.,  0.,  5., 16., 10.,  0., 16.,  6.,\n",
       "         0.,  0.,  4., 15., 16., 13., 16.,  1.,  0.,  0.,  0.,  0.,  3.,\n",
       "        15., 10.,  0.,  0.,  0.,  0.,  0.,  2., 16.,  4.,  0.,  0.]])"
      ]
     },
     "execution_count": 5,
=======
       "array(['setosa', 'versicolor', 'virginica'], dtype='|S10')"
      ]
     },
     "execution_count": 7,
>>>>>>> 3cb83a1a9978df701a57bd2d1a534f395d23eec5
     "metadata": {},
     "output_type": "execute_result"
    }
   ],
   "source": [
<<<<<<< HEAD
    "digits.data[:5]"
=======
    "iris.target_names"
>>>>>>> 3cb83a1a9978df701a57bd2d1a534f395d23eec5
   ]
  },
  {
   "cell_type": "code",
<<<<<<< HEAD
   "execution_count": 7,
=======
   "execution_count": 11,
>>>>>>> 3cb83a1a9978df701a57bd2d1a534f395d23eec5
   "metadata": {},
   "outputs": [
    {
     "data": {
<<<<<<< HEAD
      "text/plain": [
       "array([0, 1, 2, ..., 8, 9, 8])"
      ]
     },
     "execution_count": 7,
=======
      "text/html": [
       "<div>\n",
       "<style scoped>\n",
       "    .dataframe tbody tr th:only-of-type {\n",
       "        vertical-align: middle;\n",
       "    }\n",
       "\n",
       "    .dataframe tbody tr th {\n",
       "        vertical-align: top;\n",
       "    }\n",
       "\n",
       "    .dataframe thead th {\n",
       "        text-align: right;\n",
       "    }\n",
       "</style>\n",
       "<table border=\"1\" class=\"dataframe\">\n",
       "  <thead>\n",
       "    <tr style=\"text-align: right;\">\n",
       "      <th></th>\n",
       "      <th>sepal length (cm)</th>\n",
       "      <th>sepal width (cm)</th>\n",
       "      <th>petal length (cm)</th>\n",
       "      <th>petal width (cm)</th>\n",
       "      <th>target</th>\n",
       "      <th>flower_name</th>\n",
       "    </tr>\n",
       "  </thead>\n",
       "  <tbody>\n",
       "    <tr>\n",
       "      <th>100</th>\n",
       "      <td>6.3</td>\n",
       "      <td>3.3</td>\n",
       "      <td>6.0</td>\n",
       "      <td>2.5</td>\n",
       "      <td>2</td>\n",
       "      <td>virginica</td>\n",
       "    </tr>\n",
       "    <tr>\n",
       "      <th>101</th>\n",
       "      <td>5.8</td>\n",
       "      <td>2.7</td>\n",
       "      <td>5.1</td>\n",
       "      <td>1.9</td>\n",
       "      <td>2</td>\n",
       "      <td>virginica</td>\n",
       "    </tr>\n",
       "    <tr>\n",
       "      <th>102</th>\n",
       "      <td>7.1</td>\n",
       "      <td>3.0</td>\n",
       "      <td>5.9</td>\n",
       "      <td>2.1</td>\n",
       "      <td>2</td>\n",
       "      <td>virginica</td>\n",
       "    </tr>\n",
       "    <tr>\n",
       "      <th>103</th>\n",
       "      <td>6.3</td>\n",
       "      <td>2.9</td>\n",
       "      <td>5.6</td>\n",
       "      <td>1.8</td>\n",
       "      <td>2</td>\n",
       "      <td>virginica</td>\n",
       "    </tr>\n",
       "    <tr>\n",
       "      <th>104</th>\n",
       "      <td>6.5</td>\n",
       "      <td>3.0</td>\n",
       "      <td>5.8</td>\n",
       "      <td>2.2</td>\n",
       "      <td>2</td>\n",
       "      <td>virginica</td>\n",
       "    </tr>\n",
       "  </tbody>\n",
       "</table>\n",
       "</div>"
      ],
      "text/plain": [
       "     sepal length (cm)  sepal width (cm)  petal length (cm)  petal width (cm)  \\\n",
       "100                6.3               3.3                6.0               2.5   \n",
       "101                5.8               2.7                5.1               1.9   \n",
       "102                7.1               3.0                5.9               2.1   \n",
       "103                6.3               2.9                5.6               1.8   \n",
       "104                6.5               3.0                5.8               2.2   \n",
       "\n",
       "     target flower_name  \n",
       "100       2   virginica  \n",
       "101       2   virginica  \n",
       "102       2   virginica  \n",
       "103       2   virginica  \n",
       "104       2   virginica  "
      ]
     },
     "execution_count": 11,
>>>>>>> 3cb83a1a9978df701a57bd2d1a534f395d23eec5
     "metadata": {},
     "output_type": "execute_result"
    }
   ],
   "source": [
<<<<<<< HEAD
    "digits.target"
=======
    "df[df.target==2].head()"
>>>>>>> 3cb83a1a9978df701a57bd2d1a534f395d23eec5
   ]
  },
  {
   "cell_type": "code",
<<<<<<< HEAD
   "execution_count": 8,
=======
   "execution_count": 12,
>>>>>>> 3cb83a1a9978df701a57bd2d1a534f395d23eec5
   "metadata": {},
   "outputs": [
    {
     "data": {
      "text/html": [
       "<div>\n",
       "<style scoped>\n",
       "    .dataframe tbody tr th:only-of-type {\n",
       "        vertical-align: middle;\n",
       "    }\n",
       "\n",
       "    .dataframe tbody tr th {\n",
       "        vertical-align: top;\n",
       "    }\n",
       "\n",
       "    .dataframe thead th {\n",
       "        text-align: right;\n",
       "    }\n",
       "</style>\n",
       "<table border=\"1\" class=\"dataframe\">\n",
       "  <thead>\n",
       "    <tr style=\"text-align: right;\">\n",
       "      <th></th>\n",
<<<<<<< HEAD
       "      <th>0</th>\n",
       "      <th>1</th>\n",
       "      <th>2</th>\n",
       "      <th>3</th>\n",
       "      <th>4</th>\n",
       "      <th>5</th>\n",
       "      <th>6</th>\n",
       "      <th>7</th>\n",
       "      <th>8</th>\n",
       "      <th>9</th>\n",
       "      <th>...</th>\n",
       "      <th>55</th>\n",
       "      <th>56</th>\n",
       "      <th>57</th>\n",
       "      <th>58</th>\n",
       "      <th>59</th>\n",
       "      <th>60</th>\n",
       "      <th>61</th>\n",
       "      <th>62</th>\n",
       "      <th>63</th>\n",
       "      <th>target</th>\n",
=======
       "      <th>sepal length (cm)</th>\n",
       "      <th>sepal width (cm)</th>\n",
       "      <th>petal length (cm)</th>\n",
       "      <th>petal width (cm)</th>\n",
       "      <th>target</th>\n",
       "      <th>flower_name</th>\n",
>>>>>>> 3cb83a1a9978df701a57bd2d1a534f395d23eec5
       "    </tr>\n",
       "  </thead>\n",
       "  <tbody>\n",
       "    <tr>\n",
       "      <th>0</th>\n",
<<<<<<< HEAD
       "      <td>0.0</td>\n",
       "      <td>0.0</td>\n",
       "      <td>5.0</td>\n",
       "      <td>13.0</td>\n",
       "      <td>9.0</td>\n",
       "      <td>1.0</td>\n",
       "      <td>0.0</td>\n",
       "      <td>0.0</td>\n",
       "      <td>0.0</td>\n",
       "      <td>0.0</td>\n",
       "      <td>...</td>\n",
       "      <td>0.0</td>\n",
       "      <td>0.0</td>\n",
       "      <td>0.0</td>\n",
       "      <td>6.0</td>\n",
       "      <td>13.0</td>\n",
       "      <td>10.0</td>\n",
       "      <td>0.0</td>\n",
       "      <td>0.0</td>\n",
       "      <td>0.0</td>\n",
       "      <td>0</td>\n",
       "    </tr>\n",
       "    <tr>\n",
       "      <th>1</th>\n",
       "      <td>0.0</td>\n",
       "      <td>0.0</td>\n",
       "      <td>0.0</td>\n",
       "      <td>12.0</td>\n",
       "      <td>13.0</td>\n",
       "      <td>5.0</td>\n",
       "      <td>0.0</td>\n",
       "      <td>0.0</td>\n",
       "      <td>0.0</td>\n",
       "      <td>0.0</td>\n",
       "      <td>...</td>\n",
       "      <td>0.0</td>\n",
       "      <td>0.0</td>\n",
       "      <td>0.0</td>\n",
       "      <td>0.0</td>\n",
       "      <td>11.0</td>\n",
       "      <td>16.0</td>\n",
       "      <td>10.0</td>\n",
       "      <td>0.0</td>\n",
       "      <td>0.0</td>\n",
       "      <td>1</td>\n",
       "    </tr>\n",
       "    <tr>\n",
       "      <th>2</th>\n",
       "      <td>0.0</td>\n",
       "      <td>0.0</td>\n",
       "      <td>0.0</td>\n",
       "      <td>4.0</td>\n",
       "      <td>15.0</td>\n",
       "      <td>12.0</td>\n",
       "      <td>0.0</td>\n",
       "      <td>0.0</td>\n",
       "      <td>0.0</td>\n",
       "      <td>0.0</td>\n",
       "      <td>...</td>\n",
       "      <td>0.0</td>\n",
       "      <td>0.0</td>\n",
       "      <td>0.0</td>\n",
       "      <td>0.0</td>\n",
       "      <td>3.0</td>\n",
       "      <td>11.0</td>\n",
       "      <td>16.0</td>\n",
       "      <td>9.0</td>\n",
       "      <td>0.0</td>\n",
       "      <td>2</td>\n",
       "    </tr>\n",
       "    <tr>\n",
       "      <th>3</th>\n",
       "      <td>0.0</td>\n",
       "      <td>0.0</td>\n",
       "      <td>7.0</td>\n",
       "      <td>15.0</td>\n",
       "      <td>13.0</td>\n",
       "      <td>1.0</td>\n",
       "      <td>0.0</td>\n",
       "      <td>0.0</td>\n",
       "      <td>0.0</td>\n",
       "      <td>8.0</td>\n",
       "      <td>...</td>\n",
       "      <td>0.0</td>\n",
       "      <td>0.0</td>\n",
       "      <td>0.0</td>\n",
       "      <td>7.0</td>\n",
       "      <td>13.0</td>\n",
       "      <td>13.0</td>\n",
       "      <td>9.0</td>\n",
       "      <td>0.0</td>\n",
       "      <td>0.0</td>\n",
       "      <td>3</td>\n",
       "    </tr>\n",
       "    <tr>\n",
       "      <th>4</th>\n",
       "      <td>0.0</td>\n",
       "      <td>0.0</td>\n",
       "      <td>0.0</td>\n",
       "      <td>1.0</td>\n",
       "      <td>11.0</td>\n",
       "      <td>0.0</td>\n",
       "      <td>0.0</td>\n",
       "      <td>0.0</td>\n",
       "      <td>0.0</td>\n",
       "      <td>0.0</td>\n",
       "      <td>...</td>\n",
       "      <td>0.0</td>\n",
       "      <td>0.0</td>\n",
       "      <td>0.0</td>\n",
       "      <td>0.0</td>\n",
       "      <td>2.0</td>\n",
       "      <td>16.0</td>\n",
       "      <td>4.0</td>\n",
       "      <td>0.0</td>\n",
       "      <td>0.0</td>\n",
       "      <td>4</td>\n",
       "    </tr>\n",
       "  </tbody>\n",
       "</table>\n",
       "<p>5 rows × 65 columns</p>\n",
       "</div>"
      ],
      "text/plain": [
       "     0    1    2     3     4     5    6    7    8    9  ...   55   56   57  \\\n",
       "0  0.0  0.0  5.0  13.0   9.0   1.0  0.0  0.0  0.0  0.0  ...  0.0  0.0  0.0   \n",
       "1  0.0  0.0  0.0  12.0  13.0   5.0  0.0  0.0  0.0  0.0  ...  0.0  0.0  0.0   \n",
       "2  0.0  0.0  0.0   4.0  15.0  12.0  0.0  0.0  0.0  0.0  ...  0.0  0.0  0.0   \n",
       "3  0.0  0.0  7.0  15.0  13.0   1.0  0.0  0.0  0.0  8.0  ...  0.0  0.0  0.0   \n",
       "4  0.0  0.0  0.0   1.0  11.0   0.0  0.0  0.0  0.0  0.0  ...  0.0  0.0  0.0   \n",
       "\n",
       "    58    59    60    61   62   63  target  \n",
       "0  6.0  13.0  10.0   0.0  0.0  0.0       0  \n",
       "1  0.0  11.0  16.0  10.0  0.0  0.0       1  \n",
       "2  0.0   3.0  11.0  16.0  9.0  0.0       2  \n",
       "3  7.0  13.0  13.0   9.0  0.0  0.0       3  \n",
       "4  0.0   2.0  16.0   4.0  0.0  0.0       4  \n",
       "\n",
       "[5 rows x 65 columns]"
      ]
     },
     "execution_count": 8,
=======
       "      <td>5.1</td>\n",
       "      <td>3.5</td>\n",
       "      <td>1.4</td>\n",
       "      <td>0.2</td>\n",
       "      <td>0</td>\n",
       "      <td>setosa</td>\n",
       "    </tr>\n",
       "    <tr>\n",
       "      <th>1</th>\n",
       "      <td>4.9</td>\n",
       "      <td>3.0</td>\n",
       "      <td>1.4</td>\n",
       "      <td>0.2</td>\n",
       "      <td>0</td>\n",
       "      <td>setosa</td>\n",
       "    </tr>\n",
       "    <tr>\n",
       "      <th>2</th>\n",
       "      <td>4.7</td>\n",
       "      <td>3.2</td>\n",
       "      <td>1.3</td>\n",
       "      <td>0.2</td>\n",
       "      <td>0</td>\n",
       "      <td>setosa</td>\n",
       "    </tr>\n",
       "    <tr>\n",
       "      <th>3</th>\n",
       "      <td>4.6</td>\n",
       "      <td>3.1</td>\n",
       "      <td>1.5</td>\n",
       "      <td>0.2</td>\n",
       "      <td>0</td>\n",
       "      <td>setosa</td>\n",
       "    </tr>\n",
       "    <tr>\n",
       "      <th>4</th>\n",
       "      <td>5.0</td>\n",
       "      <td>3.6</td>\n",
       "      <td>1.4</td>\n",
       "      <td>0.2</td>\n",
       "      <td>0</td>\n",
       "      <td>setosa</td>\n",
       "    </tr>\n",
       "  </tbody>\n",
       "</table>\n",
       "</div>"
      ],
      "text/plain": [
       "   sepal length (cm)  sepal width (cm)  petal length (cm)  petal width (cm)  \\\n",
       "0                5.1               3.5                1.4               0.2   \n",
       "1                4.9               3.0                1.4               0.2   \n",
       "2                4.7               3.2                1.3               0.2   \n",
       "3                4.6               3.1                1.5               0.2   \n",
       "4                5.0               3.6                1.4               0.2   \n",
       "\n",
       "   target flower_name  \n",
       "0       0      setosa  \n",
       "1       0      setosa  \n",
       "2       0      setosa  \n",
       "3       0      setosa  \n",
       "4       0      setosa  "
      ]
     },
     "execution_count": 12,
>>>>>>> 3cb83a1a9978df701a57bd2d1a534f395d23eec5
     "metadata": {},
     "output_type": "execute_result"
    }
   ],
   "source": [
<<<<<<< HEAD
    "df['target'] = digits.target\n",
=======
    "df['flower_name'] = df.target.apply(lambda x: iris.target_names[x])\n",
>>>>>>> 3cb83a1a9978df701a57bd2d1a534f395d23eec5
    "df.head()"
   ]
  },
  {
   "cell_type": "code",
<<<<<<< HEAD
   "execution_count": 9,
   "metadata": {},
   "outputs": [],
   "source": [
    "from sklearn.model_selection import train_test_split\n",
    "x_train, x_test, y_train, y_test = train_test_split(df.drop(['target'], axis ='columns'), digits.target, test_size = 0.2)"
=======
   "execution_count": 13,
   "metadata": {},
   "outputs": [],
   "source": [
    "from matplotlib import pyplot as plt"
>>>>>>> 3cb83a1a9978df701a57bd2d1a534f395d23eec5
   ]
  },
  {
   "cell_type": "code",
<<<<<<< HEAD
   "execution_count": 10,
=======
   "execution_count": 14,
   "metadata": {},
   "outputs": [],
   "source": [
    "%matplotlib inline"
   ]
  },
  {
   "cell_type": "code",
   "execution_count": 15,
   "metadata": {},
   "outputs": [],
   "source": [
    "df0 = df[df.target == 0]\n",
    "df1 = df[df.target == 1]\n",
    "df2 = df[df.target == 2]"
   ]
  },
  {
   "cell_type": "code",
   "execution_count": 16,
>>>>>>> 3cb83a1a9978df701a57bd2d1a534f395d23eec5
   "metadata": {},
   "outputs": [
    {
     "data": {
<<<<<<< HEAD
      "text/plain": [
       "360"
      ]
     },
     "execution_count": 10,
=======
      "text/html": [
       "<div>\n",
       "<style scoped>\n",
       "    .dataframe tbody tr th:only-of-type {\n",
       "        vertical-align: middle;\n",
       "    }\n",
       "\n",
       "    .dataframe tbody tr th {\n",
       "        vertical-align: top;\n",
       "    }\n",
       "\n",
       "    .dataframe thead th {\n",
       "        text-align: right;\n",
       "    }\n",
       "</style>\n",
       "<table border=\"1\" class=\"dataframe\">\n",
       "  <thead>\n",
       "    <tr style=\"text-align: right;\">\n",
       "      <th></th>\n",
       "      <th>sepal length (cm)</th>\n",
       "      <th>sepal width (cm)</th>\n",
       "      <th>petal length (cm)</th>\n",
       "      <th>petal width (cm)</th>\n",
       "      <th>target</th>\n",
       "      <th>flower_name</th>\n",
       "    </tr>\n",
       "  </thead>\n",
       "  <tbody>\n",
       "    <tr>\n",
       "      <th>100</th>\n",
       "      <td>6.3</td>\n",
       "      <td>3.3</td>\n",
       "      <td>6.0</td>\n",
       "      <td>2.5</td>\n",
       "      <td>2</td>\n",
       "      <td>virginica</td>\n",
       "    </tr>\n",
       "    <tr>\n",
       "      <th>101</th>\n",
       "      <td>5.8</td>\n",
       "      <td>2.7</td>\n",
       "      <td>5.1</td>\n",
       "      <td>1.9</td>\n",
       "      <td>2</td>\n",
       "      <td>virginica</td>\n",
       "    </tr>\n",
       "    <tr>\n",
       "      <th>102</th>\n",
       "      <td>7.1</td>\n",
       "      <td>3.0</td>\n",
       "      <td>5.9</td>\n",
       "      <td>2.1</td>\n",
       "      <td>2</td>\n",
       "      <td>virginica</td>\n",
       "    </tr>\n",
       "    <tr>\n",
       "      <th>103</th>\n",
       "      <td>6.3</td>\n",
       "      <td>2.9</td>\n",
       "      <td>5.6</td>\n",
       "      <td>1.8</td>\n",
       "      <td>2</td>\n",
       "      <td>virginica</td>\n",
       "    </tr>\n",
       "    <tr>\n",
       "      <th>104</th>\n",
       "      <td>6.5</td>\n",
       "      <td>3.0</td>\n",
       "      <td>5.8</td>\n",
       "      <td>2.2</td>\n",
       "      <td>2</td>\n",
       "      <td>virginica</td>\n",
       "    </tr>\n",
       "  </tbody>\n",
       "</table>\n",
       "</div>"
      ],
      "text/plain": [
       "     sepal length (cm)  sepal width (cm)  petal length (cm)  petal width (cm)  \\\n",
       "100                6.3               3.3                6.0               2.5   \n",
       "101                5.8               2.7                5.1               1.9   \n",
       "102                7.1               3.0                5.9               2.1   \n",
       "103                6.3               2.9                5.6               1.8   \n",
       "104                6.5               3.0                5.8               2.2   \n",
       "\n",
       "     target flower_name  \n",
       "100       2   virginica  \n",
       "101       2   virginica  \n",
       "102       2   virginica  \n",
       "103       2   virginica  \n",
       "104       2   virginica  "
      ]
     },
     "execution_count": 16,
>>>>>>> 3cb83a1a9978df701a57bd2d1a534f395d23eec5
     "metadata": {},
     "output_type": "execute_result"
    }
   ],
   "source": [
<<<<<<< HEAD
    "len(x_test)"
=======
    "df2.head()"
>>>>>>> 3cb83a1a9978df701a57bd2d1a534f395d23eec5
   ]
  },
  {
   "cell_type": "code",
<<<<<<< HEAD
   "execution_count": 13,
   "metadata": {},
   "outputs": [
    {
     "name": "stderr",
     "output_type": "stream",
     "text": [
      "/home/lunawang/.local/lib/python2.7/site-packages/sklearn/ensemble/forest.py:246: FutureWarning: The default value of n_estimators will change from 10 in version 0.20 to 100 in 0.22.\n",
      "  \"10 in version 0.20 to 100 in 0.22.\", FutureWarning)\n"
     ]
    },
    {
     "data": {
      "text/plain": [
       "RandomForestClassifier(bootstrap=True, class_weight=None, criterion='gini',\n",
       "            max_depth=None, max_features='auto', max_leaf_nodes=None,\n",
       "            min_impurity_decrease=0.0, min_impurity_split=None,\n",
       "            min_samples_leaf=1, min_samples_split=2,\n",
       "            min_weight_fraction_leaf=0.0, n_estimators=10, n_jobs=None,\n",
       "            oob_score=False, random_state=None, verbose=0,\n",
       "            warm_start=False)"
      ]
     },
     "execution_count": 13,
=======
   "execution_count": 19,
   "metadata": {},
   "outputs": [
    {
     "data": {
      "text/plain": [
       "<matplotlib.collections.PathCollection at 0x7faba8c60d10>"
      ]
     },
     "execution_count": 19,
     "metadata": {},
     "output_type": "execute_result"
    },
    {
     "data": {
      "image/png": "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\n",
      "text/plain": [
       "<Figure size 432x288 with 1 Axes>"
      ]
     },
     "metadata": {
      "needs_background": "light"
     },
     "output_type": "display_data"
    }
   ],
   "source": [
    "plt.xlabel('petal length (cm)')\n",
    "plt.ylabel('petal width (cm)')\n",
    "plt.scatter(df0['petal length (cm)'], df0['petal width (cm)'], color = 'green', marker = '+')\n",
    "plt.scatter(df1['petal length (cm)'], df1['petal width (cm)'], color = 'blue', marker = '.')"
   ]
  },
  {
   "cell_type": "code",
   "execution_count": 20,
   "metadata": {},
   "outputs": [],
   "source": [
    "from sklearn.model_selection import train_test_split"
   ]
  },
  {
   "cell_type": "code",
   "execution_count": 22,
   "metadata": {},
   "outputs": [
    {
     "data": {
      "text/plain": [
       "<bound method DataFrame.head of      sepal length (cm)  sepal width (cm)  petal length (cm)  petal width (cm)\n",
       "0                  5.1               3.5                1.4               0.2\n",
       "1                  4.9               3.0                1.4               0.2\n",
       "2                  4.7               3.2                1.3               0.2\n",
       "3                  4.6               3.1                1.5               0.2\n",
       "4                  5.0               3.6                1.4               0.2\n",
       "5                  5.4               3.9                1.7               0.4\n",
       "6                  4.6               3.4                1.4               0.3\n",
       "7                  5.0               3.4                1.5               0.2\n",
       "8                  4.4               2.9                1.4               0.2\n",
       "9                  4.9               3.1                1.5               0.1\n",
       "10                 5.4               3.7                1.5               0.2\n",
       "11                 4.8               3.4                1.6               0.2\n",
       "12                 4.8               3.0                1.4               0.1\n",
       "13                 4.3               3.0                1.1               0.1\n",
       "14                 5.8               4.0                1.2               0.2\n",
       "15                 5.7               4.4                1.5               0.4\n",
       "16                 5.4               3.9                1.3               0.4\n",
       "17                 5.1               3.5                1.4               0.3\n",
       "18                 5.7               3.8                1.7               0.3\n",
       "19                 5.1               3.8                1.5               0.3\n",
       "20                 5.4               3.4                1.7               0.2\n",
       "21                 5.1               3.7                1.5               0.4\n",
       "22                 4.6               3.6                1.0               0.2\n",
       "23                 5.1               3.3                1.7               0.5\n",
       "24                 4.8               3.4                1.9               0.2\n",
       "25                 5.0               3.0                1.6               0.2\n",
       "26                 5.0               3.4                1.6               0.4\n",
       "27                 5.2               3.5                1.5               0.2\n",
       "28                 5.2               3.4                1.4               0.2\n",
       "29                 4.7               3.2                1.6               0.2\n",
       "..                 ...               ...                ...               ...\n",
       "120                6.9               3.2                5.7               2.3\n",
       "121                5.6               2.8                4.9               2.0\n",
       "122                7.7               2.8                6.7               2.0\n",
       "123                6.3               2.7                4.9               1.8\n",
       "124                6.7               3.3                5.7               2.1\n",
       "125                7.2               3.2                6.0               1.8\n",
       "126                6.2               2.8                4.8               1.8\n",
       "127                6.1               3.0                4.9               1.8\n",
       "128                6.4               2.8                5.6               2.1\n",
       "129                7.2               3.0                5.8               1.6\n",
       "130                7.4               2.8                6.1               1.9\n",
       "131                7.9               3.8                6.4               2.0\n",
       "132                6.4               2.8                5.6               2.2\n",
       "133                6.3               2.8                5.1               1.5\n",
       "134                6.1               2.6                5.6               1.4\n",
       "135                7.7               3.0                6.1               2.3\n",
       "136                6.3               3.4                5.6               2.4\n",
       "137                6.4               3.1                5.5               1.8\n",
       "138                6.0               3.0                4.8               1.8\n",
       "139                6.9               3.1                5.4               2.1\n",
       "140                6.7               3.1                5.6               2.4\n",
       "141                6.9               3.1                5.1               2.3\n",
       "142                5.8               2.7                5.1               1.9\n",
       "143                6.8               3.2                5.9               2.3\n",
       "144                6.7               3.3                5.7               2.5\n",
       "145                6.7               3.0                5.2               2.3\n",
       "146                6.3               2.5                5.0               1.9\n",
       "147                6.5               3.0                5.2               2.0\n",
       "148                6.2               3.4                5.4               2.3\n",
       "149                5.9               3.0                5.1               1.8\n",
       "\n",
       "[150 rows x 4 columns]>"
      ]
     },
     "execution_count": 22,
>>>>>>> 3cb83a1a9978df701a57bd2d1a534f395d23eec5
     "metadata": {},
     "output_type": "execute_result"
    }
   ],
   "source": [
<<<<<<< HEAD
    "from sklearn.ensemble import RandomForestClassifier\n",
    "model = RandomForestClassifier()\n",
    "model.fit(x_train, y_train)"
=======
    "x = df.drop(['target', 'flower_name'], axis = 'columns')\n",
    "x.head"
>>>>>>> 3cb83a1a9978df701a57bd2d1a534f395d23eec5
   ]
  },
  {
   "cell_type": "code",
<<<<<<< HEAD
   "execution_count": 14,
=======
   "execution_count": 23,
   "metadata": {},
   "outputs": [],
   "source": [
    "y = df.target"
   ]
  },
  {
   "cell_type": "code",
   "execution_count": 24,
   "metadata": {},
   "outputs": [],
   "source": [
    "x_train, x_test, y_train, y_test = train_test_split(x,y,test_size = 0.2)"
   ]
  },
  {
   "cell_type": "code",
   "execution_count": 25,
>>>>>>> 3cb83a1a9978df701a57bd2d1a534f395d23eec5
   "metadata": {},
   "outputs": [
    {
     "data": {
      "text/plain": [
<<<<<<< HEAD
       "0.95"
      ]
     },
     "execution_count": 14,
=======
       "120"
      ]
     },
     "execution_count": 25,
>>>>>>> 3cb83a1a9978df701a57bd2d1a534f395d23eec5
     "metadata": {},
     "output_type": "execute_result"
    }
   ],
   "source": [
<<<<<<< HEAD
    "model.score(x_test, y_test)"
=======
    "len(x_train)"
>>>>>>> 3cb83a1a9978df701a57bd2d1a534f395d23eec5
   ]
  },
  {
   "cell_type": "code",
<<<<<<< HEAD
   "execution_count": 15,
   "metadata": {},
   "outputs": [],
   "source": [
    "y_predicted = model.predict(x_test)"
=======
   "execution_count": 26,
   "metadata": {},
   "outputs": [
    {
     "data": {
      "text/plain": [
       "30"
      ]
     },
     "execution_count": 26,
     "metadata": {},
     "output_type": "execute_result"
    }
   ],
   "source": [
    "len(x_test)"
   ]
  },
  {
   "cell_type": "code",
   "execution_count": 28,
   "metadata": {},
   "outputs": [],
   "source": [
    "from sklearn.svm import SVC\n",
    "model = SVC()"
>>>>>>> 3cb83a1a9978df701a57bd2d1a534f395d23eec5
   ]
  },
  {
   "cell_type": "code",
<<<<<<< HEAD
   "execution_count": 16,
   "metadata": {},
   "outputs": [
    {
     "data": {
      "text/plain": [
       "array([[35,  0,  0,  0,  0,  0,  0,  0,  0,  0],\n",
       "       [ 0, 31,  0,  0,  0,  0,  1,  0,  0,  0],\n",
       "       [ 0,  0, 36,  0,  0,  0,  0,  0,  1,  0],\n",
       "       [ 0,  0,  1, 27,  0,  0,  0,  0,  0,  0],\n",
       "       [ 0,  0,  0,  0, 37,  0,  0,  1,  0,  0],\n",
       "       [ 2,  1,  0,  0,  1, 31,  0,  0,  0,  1],\n",
       "       [ 0,  0,  0,  0,  0,  0, 28,  0,  0,  0],\n",
       "       [ 0,  0,  0,  0,  0,  1,  0, 38,  0,  0],\n",
       "       [ 0,  1,  1,  0,  0,  1,  0,  0, 40,  1],\n",
       "       [ 0,  2,  0,  0,  0,  0,  0,  1,  1, 39]])"
      ]
     },
     "execution_count": 16,
=======
   "execution_count": 29,
   "metadata": {},
   "outputs": [
    {
     "name": "stderr",
     "output_type": "stream",
     "text": [
      "/home/lunawang/.local/lib/python2.7/site-packages/sklearn/svm/base.py:196: FutureWarning: The default value of gamma will change from 'auto' to 'scale' in version 0.22 to account better for unscaled features. Set gamma explicitly to 'auto' or 'scale' to avoid this warning.\n",
      "  \"avoid this warning.\", FutureWarning)\n"
     ]
    },
    {
     "data": {
      "text/plain": [
       "SVC(C=1.0, cache_size=200, class_weight=None, coef0=0.0,\n",
       "  decision_function_shape='ovr', degree=3, gamma='auto_deprecated',\n",
       "  kernel='rbf', max_iter=-1, probability=False, random_state=None,\n",
       "  shrinking=True, tol=0.001, verbose=False)"
      ]
     },
     "execution_count": 29,
>>>>>>> 3cb83a1a9978df701a57bd2d1a534f395d23eec5
     "metadata": {},
     "output_type": "execute_result"
    }
   ],
   "source": [
<<<<<<< HEAD
    "from sklearn.metrics import confusion_matrix\n",
    "cm = confusion_matrix(y_test, y_predicted)\n",
    "cm"
=======
    "model.fit(x_train, y_train)"
>>>>>>> 3cb83a1a9978df701a57bd2d1a534f395d23eec5
   ]
  },
  {
   "cell_type": "code",
<<<<<<< HEAD
   "execution_count": 5,
   "metadata": {},
   "outputs": [
    {
     "ename": "ImportError",
     "evalue": "No module named seaborn",
     "output_type": "error",
     "traceback": [
      "\u001b[0;31m---------------------------------------------------------------------------\u001b[0m",
      "\u001b[0;31mImportError\u001b[0m                               Traceback (most recent call last)",
      "\u001b[0;32m<ipython-input-5-41d7e1f6e161>\u001b[0m in \u001b[0;36m<module>\u001b[0;34m()\u001b[0m\n\u001b[1;32m      1\u001b[0m \u001b[0mget_ipython\u001b[0m\u001b[0;34m(\u001b[0m\u001b[0;34m)\u001b[0m\u001b[0;34m.\u001b[0m\u001b[0mmagic\u001b[0m\u001b[0;34m(\u001b[0m\u001b[0;34mu'matplotlib inline'\u001b[0m\u001b[0;34m)\u001b[0m\u001b[0;34m\u001b[0m\u001b[0m\n\u001b[1;32m      2\u001b[0m \u001b[0;32mimport\u001b[0m \u001b[0mmatplotlib\u001b[0m\u001b[0;34m.\u001b[0m\u001b[0mpyplot\u001b[0m \u001b[0;32mas\u001b[0m \u001b[0mplt\u001b[0m\u001b[0;34m\u001b[0m\u001b[0m\n\u001b[0;32m----> 3\u001b[0;31m \u001b[0;32mimport\u001b[0m \u001b[0mseaborn\u001b[0m \u001b[0;32mas\u001b[0m \u001b[0msn\u001b[0m\u001b[0;34m\u001b[0m\u001b[0m\n\u001b[0m\u001b[1;32m      4\u001b[0m \u001b[0mplt\u001b[0m\u001b[0;34m.\u001b[0m\u001b[0mfigure\u001b[0m\u001b[0;34m(\u001b[0m\u001b[0mfigsize\u001b[0m \u001b[0;34m=\u001b[0m \u001b[0;34m(\u001b[0m\u001b[0;36m10\u001b[0m\u001b[0;34m,\u001b[0m \u001b[0;36m7\u001b[0m\u001b[0;34m)\u001b[0m\u001b[0;34m)\u001b[0m\u001b[0;34m\u001b[0m\u001b[0m\n\u001b[1;32m      5\u001b[0m \u001b[0msn\u001b[0m\u001b[0;34m.\u001b[0m\u001b[0mheatmap\u001b[0m\u001b[0;34m(\u001b[0m\u001b[0mcm\u001b[0m\u001b[0;34m,\u001b[0m \u001b[0mannot\u001b[0m \u001b[0;34m=\u001b[0m \u001b[0mTrue\u001b[0m\u001b[0;34m)\u001b[0m\u001b[0;34m\u001b[0m\u001b[0m\n",
      "\u001b[0;31mImportError\u001b[0m: No module named seaborn"
     ]
    }
   ],
   "source": [
    "%matplotlib inline\n",
    "import matplotlib.pyplot as plt\n",
    "import seaborn as sn\n",
    "plt.figure(figsize = (10, 7))\n",
    "sn.heatmap(cm, annot = True)\n",
    "plt.xlabel('Predicted')\n",
    "plt.ylabel('Truth')"
=======
   "execution_count": 31,
   "metadata": {},
   "outputs": [
    {
     "data": {
      "text/plain": [
       "0.9333333333333333"
      ]
     },
     "execution_count": 31,
     "metadata": {},
     "output_type": "execute_result"
    }
   ],
   "source": [
    "model.score(x_test, y_test)"
>>>>>>> 3cb83a1a9978df701a57bd2d1a534f395d23eec5
   ]
  },
  {
   "cell_type": "code",
   "execution_count": null,
   "metadata": {},
   "outputs": [],
   "source": []
  }
 ],
 "metadata": {
  "kernelspec": {
   "display_name": "Python 3",
   "language": "python",
   "name": "python3"
  },
  "language_info": {
   "codemirror_mode": {
    "name": "ipython",
    "version": 2
   },
   "file_extension": ".py",
   "mimetype": "text/x-python",
   "name": "python",
   "nbconvert_exporter": "python",
   "pygments_lexer": "ipython2",
   "version": "2.7.17"
  }
 },
 "nbformat": 4,
 "nbformat_minor": 2
}
