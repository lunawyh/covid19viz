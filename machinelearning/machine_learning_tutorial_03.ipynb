{
 "cells": [
  {
   "cell_type": "code",
   "execution_count": 1,
   "metadata": {},
   "outputs": [],
   "source": [
    "import pandas as pd\n",
    "import numpy as np\n",
    "from sklearn import linear_model"
   ]
  },
  {
   "cell_type": "code",
   "execution_count": 2,
   "metadata": {},
   "outputs": [
    {
     "name": "stdout",
     "output_type": "stream",
     "text": [
      "('1:',    area  bedrooms  age   price\n",
      "0  2600       3.0   20  550000\n",
      "1  3000       4.0   15  565000\n",
      "2  3200       NaN   18  610000\n",
      "3  3600       3.0   30  595000\n",
      "4  4000       5.0    8  760000)\n"
     ]
    }
   ],
   "source": [
    "df = pd.read_csv(\"machine_learning_tutorial_03.csv\")\n",
    "print('1:', df)"
   ]
  },
  {
   "cell_type": "code",
   "execution_count": 3,
   "metadata": {},
   "outputs": [
    {
     "name": "stdout",
     "output_type": "stream",
     "text": [
      "('2:', 3.0)\n"
     ]
    }
   ],
   "source": [
    "import math\n",
    "median_bedrooms = math.floor(df.bedrooms.median())\n",
    "print('2:', median_bedrooms)"
   ]
  },
  {
   "cell_type": "code",
   "execution_count": 4,
   "metadata": {},
   "outputs": [
    {
     "name": "stdout",
     "output_type": "stream",
     "text": [
      "('3:',    area  bedrooms  age   price\n",
      "0  2600       3.0   20  550000\n",
      "1  3000       4.0   15  565000\n",
      "2  3200       3.0   18  610000\n",
      "3  3600       3.0   30  595000\n",
      "4  4000       5.0    8  760000)\n"
     ]
    }
   ],
   "source": [
    "#clean your modul\n",
    "df.bedrooms = df.bedrooms.fillna(median_bedrooms)\n",
    "print('3:', df)"
   ]
  },
  {
   "cell_type": "code",
   "execution_count": 5,
   "metadata": {},
   "outputs": [
    {
     "name": "stdout",
     "output_type": "stream",
     "text": [
      "('4:', LinearRegression(copy_X=True, fit_intercept=True, n_jobs=None,\n",
      "         normalize=False))\n",
      "('4:', LinearRegression(copy_X=True, fit_intercept=True, n_jobs=None,\n",
      "         normalize=False))\n"
     ]
    }
   ],
   "source": [
    "reg = linear_model.LinearRegression()\n",
    "print('4:', reg)\n",
    "#train your modul\n",
    "reg.fit(df[['area', 'bedrooms', 'age']],df.price)\n",
    "print('4:', reg)"
   ]
  },
  {
   "cell_type": "code",
   "execution_count": 6,
   "metadata": {},
   "outputs": [
    {
     "name": "stdout",
     "output_type": "stream",
     "text": [
      "[   137.25 -26025.    -6825.  ]\n",
      "('5:', 383725.00000000006)\n"
     ]
    }
   ],
   "source": [
    "print(reg.coef_)\n",
    "\n",
    "print('5:', reg.intercept_)"
   ]
  },
  {
   "cell_type": "code",
   "execution_count": 7,
   "metadata": {},
   "outputs": [
    {
     "name": "stdout",
     "output_type": "stream",
     "text": [
      "('6:', LinearRegression(copy_X=True, fit_intercept=True, n_jobs=None,\n",
      "         normalize=False))\n",
      "('6:', LinearRegression(copy_X=True, fit_intercept=True, n_jobs=None,\n",
      "         normalize=False))\n"
     ]
    }
   ],
   "source": [
    "reg.predict([[3000, 3, 40]])\n",
    "print('6:', reg)\n",
    "\n",
    "reg.predict([[2500, 4, 5]])\n",
    "print('6:', reg)\n"
   ]
  },
  {
   "cell_type": "code",
   "execution_count": null,
   "metadata": {},
   "outputs": [],
   "source": []
  }
 ],
 "metadata": {
  "kernelspec": {
   "display_name": "Python 3",
   "language": "python",
   "name": "python3"
  },
  "language_info": {
   "codemirror_mode": {
    "name": "ipython",
    "version": 2
   },
   "file_extension": ".py",
   "mimetype": "text/x-python",
   "name": "python",
   "nbconvert_exporter": "python",
   "pygments_lexer": "ipython2",
   "version": "2.7.17"
  }
 },
 "nbformat": 4,
 "nbformat_minor": 2
}
